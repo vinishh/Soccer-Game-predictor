{
 "cells": [
  {
   "cell_type": "code",
   "execution_count": null,
   "id": "285c33da-91c6-46d0-b087-7014288bd204",
   "metadata": {},
   "outputs": [],
   "source": [
    "import pandas as pd\n",
    "import sklearn as sklearn\n",
    "from sklearn.ensemble import RandomForestClassifier\n",
    "from sklearn.metrics import accuracy_score\n",
    "from sklearn.metrics import precision_score"
   ]
  },
  {
   "cell_type": "code",
   "execution_count": 96,
   "id": "f9f9befd-8fb5-4335-85b3-727d53a68929",
   "metadata": {},
   "outputs": [],
   "source": [
    "matches = pd.read_csv(\"matches.csv\", index_col=0)"
   ]
  },
  {
   "cell_type": "code",
   "execution_count": null,
   "id": "3fb12d0b-9a2a-4a1c-9449-a4bf7cfea97f",
   "metadata": {},
   "outputs": [],
   "source": [
    "matches.head()"
   ]
  },
  {
   "cell_type": "code",
   "execution_count": null,
   "id": "b83893da-41a9-4c9f-9be5-16eff1585f4b",
   "metadata": {},
   "outputs": [],
   "source": [
    "matches.shape"
   ]
  },
  {
   "cell_type": "code",
   "execution_count": null,
   "id": "7d9f9409-2e0e-4bb5-be86-f490156e2545",
   "metadata": {},
   "outputs": [],
   "source": [
    "matches[\"team\"].value_counts()"
   ]
  },
  {
   "cell_type": "code",
   "execution_count": null,
   "id": "564c7aea-a5a0-4d7d-ad1e-5d62fd367f5f",
   "metadata": {},
   "outputs": [],
   "source": [
    "matches[matches[\"team\"] == \"Liverpool\"].sort_values(\"date\")"
   ]
  },
  {
   "cell_type": "code",
   "execution_count": null,
   "id": "9b7313fe-d6f3-4eae-80c4-93fdd0e8fe59",
   "metadata": {},
   "outputs": [],
   "source": [
    "matches[\"round\"].value_counts()"
   ]
  },
  {
   "cell_type": "code",
   "execution_count": null,
   "id": "d8c31a87-88c1-47d5-ae27-d3ad690ca2b8",
   "metadata": {},
   "outputs": [],
   "source": [
    "matches.dtypes"
   ]
  },
  {
   "cell_type": "code",
   "execution_count": 104,
   "id": "e5bf7c4f-fd2d-4901-b5dd-36c9ecefccc9",
   "metadata": {},
   "outputs": [],
   "source": [
    "del matches[\"comp\"]"
   ]
  },
  {
   "cell_type": "code",
   "execution_count": 105,
   "id": "a677a00a-1c26-40bb-ba24-aeb80b3525fe",
   "metadata": {},
   "outputs": [],
   "source": [
    "del matches[\"notes\"]"
   ]
  },
  {
   "cell_type": "code",
   "execution_count": 106,
   "id": "7120558d-5461-4f32-969c-e88817487bf5",
   "metadata": {},
   "outputs": [],
   "source": [
    "matches[\"date\"] = pd.to_datetime(matches[\"date\"])"
   ]
  },
  {
   "cell_type": "code",
   "execution_count": 107,
   "id": "49cd6dfe-5e67-4253-9e6c-f4d6e2fbb918",
   "metadata": {},
   "outputs": [],
   "source": [
    "matches[\"target\"] = (matches[\"result\"] == \"W\").astype(\"int\")"
   ]
  },
  {
   "cell_type": "code",
   "execution_count": null,
   "id": "57cca561-db98-4146-bac2-afc6ef86fdfb",
   "metadata": {},
   "outputs": [],
   "source": [
    "matches"
   ]
  },
  {
   "cell_type": "code",
   "execution_count": 109,
   "id": "6a4155d5-2771-4909-801d-1c758e0324a1",
   "metadata": {},
   "outputs": [],
   "source": [
    "matches[\"venue_code\"] = matches[\"venue\"].astype(\"category\").cat.codes"
   ]
  },
  {
   "cell_type": "code",
   "execution_count": 110,
   "id": "8f5f47db-5f35-4a11-a59d-f7c8194ec4cb",
   "metadata": {},
   "outputs": [],
   "source": [
    "matches[\"opp_code\"] = matches[\"opponent\"].astype(\"category\").cat.codes"
   ]
  },
  {
   "cell_type": "code",
   "execution_count": 111,
   "id": "2198ffa7-0e06-4430-b988-3166e33b65f4",
   "metadata": {},
   "outputs": [],
   "source": [
    "matches[\"hour\"] = matches[\"time\"].str.replace(\":.+\", \"\", regex=True).astype(\"int\")"
   ]
  },
  {
   "cell_type": "code",
   "execution_count": 117,
   "id": "b44fea10-6753-46c9-90bb-76aee9111607",
   "metadata": {},
   "outputs": [],
   "source": [
    "matches[\"day_code\"] = matches[\"date\"].dt.dayofweek"
   ]
  },
  {
   "cell_type": "code",
   "execution_count": 120,
   "id": "40bc2deb-6de1-450c-abf0-4ecae2c5ca27",
   "metadata": {},
   "outputs": [],
   "source": [
    "rf = RandomForestClassifier(n_estimators=50, min_samples_split=10, random_state=1)"
   ]
  },
  {
   "cell_type": "code",
   "execution_count": 121,
   "id": "4f4bd9f0-1fe1-4b51-8179-1733e9542305",
   "metadata": {},
   "outputs": [],
   "source": [
    "train = matches[matches[\"date\"] < '2022-01-01']"
   ]
  },
  {
   "cell_type": "code",
   "execution_count": 122,
   "id": "dff959c3-646e-4aa8-93ea-ac32dc0f86bb",
   "metadata": {},
   "outputs": [],
   "source": [
    "test = matches[matches[\"date\"] > '2022-01-01']"
   ]
  },
  {
   "cell_type": "code",
   "execution_count": 123,
   "id": "6f6ea030-17c1-4658-a6b1-d2e4dcdc2372",
   "metadata": {},
   "outputs": [],
   "source": [
    "predictors = [\"venue_code\", \"opp_code\", \"hour\", \"day_code\"]"
   ]
  },
  {
   "cell_type": "code",
   "execution_count": null,
   "id": "b1f965d9-1198-4108-80c7-354e5e22652a",
   "metadata": {},
   "outputs": [],
   "source": [
    "rf.fit(train[predictors], train[\"target\"])"
   ]
  },
  {
   "cell_type": "code",
   "execution_count": 125,
   "id": "69a7e5d4-e29c-49c1-9fe9-d2b9becc4335",
   "metadata": {},
   "outputs": [],
   "source": [
    "preds = rf.predict(test[predictors])"
   ]
  },
  {
   "cell_type": "code",
   "execution_count": 127,
   "id": "d407bc8e-05fc-4bbc-a2c2-9441e5f73f4f",
   "metadata": {},
   "outputs": [],
   "source": [
    "error = accuracy_score(test[\"target\"], preds)"
   ]
  },
  {
   "cell_type": "code",
   "execution_count": 129,
   "id": "2972bf3d-cda6-4d27-a765-f027d7657710",
   "metadata": {},
   "outputs": [],
   "source": [
    "combined = pd.DataFrame(dict(actual=test[\"target\"], predicted=preds))"
   ]
  },
  {
   "cell_type": "code",
   "execution_count": null,
   "id": "c1fdd697-4c7e-46e7-a4ea-1614b75ccd66",
   "metadata": {},
   "outputs": [],
   "source": [
    "pd.crosstab(index=combined[\"actual\"], columns=combined[\"predicted\"])"
   ]
  },
  {
   "cell_type": "code",
   "execution_count": null,
   "id": "f38e35a0-f17a-401a-8ccc-e83837498227",
   "metadata": {},
   "outputs": [],
   "source": [
    "precision_score(test[\"target\"], preds)"
   ]
  },
  {
   "cell_type": "code",
   "execution_count": 209,
   "id": "19e6953b-3662-4de1-b8c4-fba2bcfabae1",
   "metadata": {},
   "outputs": [],
   "source": [
    "grouped_matches = matches.groupby(\"team\")"
   ]
  },
  {
   "cell_type": "code",
   "execution_count": 210,
   "id": "d32bede5-53fd-449b-9615-852bbb7bbe19",
   "metadata": {},
   "outputs": [],
   "source": [
    "group = grouped_matches.get_group(\"Manchester City\").sort_values(\"date\")"
   ]
  },
  {
   "cell_type": "code",
   "execution_count": 211,
   "id": "574fb518-a733-4c35-854b-191cefe1762b",
   "metadata": {},
   "outputs": [],
   "source": [
    "def rolling_averages(group, cols, new_cols):\n",
    "    group = group.sort_values(\"date\")\n",
    "    rolling_stats = group[cols].rolling(3, closed='left').mean()\n",
    "    group[new_cols] = rolling_stats\n",
    "    group = group.dropna(subset=new_cols)\n",
    "    return group"
   ]
  },
  {
   "cell_type": "code",
   "execution_count": null,
   "id": "0ffacb6c-3a8d-4e5c-a2ec-066dcf913cb2",
   "metadata": {},
   "outputs": [],
   "source": [
    "cols = [\"gf\", \"ga\", \"sh\", \"sot\", \"dist\", \"fk\", \"pk\", \"pkatt\"]\n",
    "new_cols = [f\"{c}_rolling\" for c in cols]\n",
    "\n",
    "rolling_averages(group, cols, new_cols)"
   ]
  },
  {
   "cell_type": "code",
   "execution_count": 213,
   "id": "c988a520-ec3b-46c2-8e1e-7981eba5c1e1",
   "metadata": {},
   "outputs": [],
   "source": [
    "matches_rolling = matches.groupby(\"team\").apply(lambda x: rolling_averages(x, cols, new_cols))"
   ]
  },
  {
   "cell_type": "code",
   "execution_count": null,
   "id": "e336c816-c229-41f7-af68-8e7275907952",
   "metadata": {},
   "outputs": [],
   "source": [
    "matches_rolling"
   ]
  },
  {
   "cell_type": "code",
   "execution_count": 215,
   "id": "156979b1-ad35-4db7-987c-af4910f3c580",
   "metadata": {},
   "outputs": [],
   "source": [
    "matches_rolling = matches_rolling.droplevel('team')"
   ]
  },
  {
   "cell_type": "code",
   "execution_count": null,
   "id": "e24a3592-9333-4fb6-b194-2a9eb3e576bf",
   "metadata": {},
   "outputs": [],
   "source": [
    "matches_rolling"
   ]
  },
  {
   "cell_type": "code",
   "execution_count": 238,
   "id": "248936e0-febc-422f-a532-7a9827bb5627",
   "metadata": {},
   "outputs": [],
   "source": [
    "matches_rolling.index = range(matches_rolling.shape[0])"
   ]
  },
  {
   "cell_type": "code",
   "execution_count": 239,
   "id": "6342b84c-f942-4151-9dea-eb5d607a7c33",
   "metadata": {},
   "outputs": [],
   "source": [
    "def make_predictions(data, predictors):\n",
    "    train = data[data[\"date\"] < '2022-01-01']\n",
    "    test = data[data[\"date\"] > '2022-01-01']\n",
    "    rf.fit(train[predictors], train[\"target\"])\n",
    "    preds = rf.predict(test[predictors])\n",
    "    combined = pd.DataFrame(dict(actual=test[\"target\"], predicted=preds), index=test.index)\n",
    "    error = precision_score(test[\"target\"], preds)\n",
    "    return combined, error"
   ]
  },
  {
   "cell_type": "code",
   "execution_count": 263,
   "id": "baf00a6c-e8e3-4c87-8e32-6aaa6d4205e6",
   "metadata": {},
   "outputs": [],
   "source": [
    "combined, error = make_predictions(matches_rolling, predictors + new_cols)"
   ]
  },
  {
   "cell_type": "code",
   "execution_count": 268,
   "id": "2a5e5ae2-5200-46ef-8883-31253eb2b70e",
   "metadata": {},
   "outputs": [],
   "source": [
    "combined = combined.merge(matches_rolling[[\"date\", \"team\", \"opponent\", \"result\"]], left_index=True, right_index=True)"
   ]
  },
  {
   "cell_type": "code",
   "execution_count": 286,
   "id": "6311715e-2523-4732-becb-731a9dd664b2",
   "metadata": {},
   "outputs": [],
   "source": [
    "class MissingDict(dict):\n",
    "    __missing__ = lambda self, key: key\n",
    "\n",
    "map_values = {\"Brighton and Hove Albion\": \"Brighton\", \"Manchester United\": \"Manchester Utd\", \"Newcastle United\": \"Newcastle Utd\", \"Tottenham Hotspur\": \"Tottenham\", \"West Ham United\": \"West Ham\", \"Wolverhampton Wanderers\": \"Wolves\"} \n",
    "mapping = MissingDict(**map_values)"
   ]
  },
  {
   "cell_type": "code",
   "execution_count": 287,
   "id": "544d6d13-6ac5-42ea-b5ba-d43b53d2daa4",
   "metadata": {},
   "outputs": [],
   "source": [
    "combined[\"new_team\"] = combined[\"team\"].map(mapping)"
   ]
  },
  {
   "cell_type": "code",
   "execution_count": 290,
   "id": "42d5bd18-696d-4d1d-9522-ef3ae44d0324",
   "metadata": {},
   "outputs": [],
   "source": [
    "merged = combined.merge(combined, left_on=[\"date\", \"new_team\"], right_on=[\"date\", \"opponent\"])"
   ]
  },
  {
   "cell_type": "code",
   "execution_count": null,
   "id": "fdba9404-709f-4401-98f8-ccc0f9813f04",
   "metadata": {},
   "outputs": [],
   "source": [
    "merged[(merged[\"predicted_x\"] == 1) & (merged[\"predicted_y\"] ==0)][\"actual_x\"].value_counts()"
   ]
  }
 ],
 "metadata": {
  "kernelspec": {
   "display_name": "Python 3 (ipykernel)",
   "language": "python",
   "name": "python3"
  },
  "language_info": {
   "codemirror_mode": {
    "name": "ipython",
    "version": 3
   },
   "file_extension": ".py",
   "mimetype": "text/x-python",
   "name": "python",
   "nbconvert_exporter": "python",
   "pygments_lexer": "ipython3",
   "version": "3.9.13"
  }
 },
 "nbformat": 4,
 "nbformat_minor": 5
}
